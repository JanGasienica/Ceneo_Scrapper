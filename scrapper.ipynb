{
 "cells": [
  {
   "attachments": {},
   "cell_type": "markdown",
   "metadata": {},
   "source": [
    "# Ceneo Webscrapper"
   ]
  },
  {
   "attachments": {},
   "cell_type": "markdown",
   "metadata": {},
   "source": [
    "# Biblioteki"
   ]
  },
  {
   "cell_type": "code",
   "execution_count": 4,
   "metadata": {},
   "outputs": [],
   "source": [
    "import requests\n",
    "from bs4 import BeautifulSoup"
   ]
  },
  {
   "attachments": {},
   "cell_type": "markdown",
   "metadata": {},
   "source": [
    "# Zadanie 1\n",
    "# Wysyłanie requesta"
   ]
  },
  {
   "cell_type": "code",
   "execution_count": 2,
   "metadata": {},
   "outputs": [],
   "source": [
    "product_id = \"114700014\"\n",
    "url = f\"https://www.ceneo.pl/{product_id}/opinie-2\"\n",
    "response = requests.get(url)"
   ]
  },
  {
   "cell_type": "code",
   "execution_count": 3,
   "metadata": {},
   "outputs": [],
   "source": [
    "page_dom = BeautifulSoup(response.text, 'html.parser')\n",
    "print(type{page_dom})\n",
    "opinions = page_dom.select(\"div.js_product_review\")\n",
    "print(type{page_dom})\n",
    "opinion = opinions.pop(0)\n",
    "print(type{page_dom})\n",
    "print(opinion.prettify())\n",
    "print(opinion)"
   ]
  },
  {
   "attachments": {},
   "cell_type": "markdown",
   "metadata": {},
   "source": [
    "# Ekstrakcja składowych pojedynczej opinii\n",
    "\n",
    "|Składowa            |Sektor                                                    |Zmienna|\n",
    "|--------------------|--------------------------------------------------------------|--------------|\n",
    "|id opinii           |[\"data-entry-id\"]                                             |opinion id    |\n",
    "|autor               |span.user-post_author-name                                    |author        |\n",
    "|rekomendacja        |span.user-post_author-recomendation>em                        |recommendation|\n",
    "|gwiazdki            |span.user-post_score-count                                    |rating        |\n",
    "|treść               |div.user-post_text                                            |content       |\n",
    "|lista zalet         |div.review-feature_title--positives ~ div.review-feature_items|pros          |  \n",
    "|lista wad           |div.review-feature_title--negatives ~ div.review-feature_items|cones         |\n",
    "|dla ilu przydatna   |span[id^=\"votes-yes]                                          |useful        |\n",
    "|dla ilu nieprzydatna|span[id^=\"votes-no]                                           |useless       |\n",
    "|data  wstawienia    |span.user-post_published > time:nth-child(1)[\"datetime\"]      |post date     |\n",
    "|data  zakupu        |span.user-post_published > time:nth-child(2)[\"datetime\"]      |purchase date |"
   ]
  },
  {
   "cell_type": "code",
   "execution_count": null,
   "metadata": {},
   "outputs": [],
   "source": [
    "opinion_id = opinion[\"data-entry-id\"]\n",
    "author = opinion.select_one(\"span.user-post_author-name\")"
   ]
  },
  {
   "attachments": {},
   "cell_type": "markdown",
   "metadata": {},
   "source": []
  }
 ],
 "metadata": {
  "kernelspec": {
   "display_name": "Python 3",
   "language": "python",
   "name": "python3"
  },
  "language_info": {
   "codemirror_mode": {
    "name": "ipython",
    "version": 3
   },
   "file_extension": ".py",
   "mimetype": "text/x-python",
   "name": "python",
   "nbconvert_exporter": "python",
   "pygments_lexer": "ipython3",
   "version": "3.11.4"
  }
 },
 "nbformat": 4,
 "nbformat_minor": 2
}
